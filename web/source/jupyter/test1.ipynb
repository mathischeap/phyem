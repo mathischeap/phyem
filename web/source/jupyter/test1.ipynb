{
 "cells": [
  {
   "cell_type": "markdown",
   "id": "2fde910d-ebba-447d-9a79-0ef47c332a29",
   "metadata": {},
   "source": [
    "# Quick-start\n",
    "This is a jupyter notebook serving as a quick tutorial for the usage of *phyem*. Before "
   ]
  },
  {
   "cell_type": "code",
   "execution_count": 1,
   "id": "bd61d178-d4de-4a51-8e7a-8dc57ac73085",
   "metadata": {
    "tags": []
   },
   "outputs": [],
   "source": [
    "import sys\n",
    "path_to_phyem = '../../../../'   # the dir to phyem package\n",
    "sys.path.append(path_to_phyem)"
   ]
  },
  {
   "cell_type": "code",
   "execution_count": 2,
   "id": "6b92fced-68e8-42f3-8865-5f28c14aeba1",
   "metadata": {
    "tags": []
   },
   "outputs": [],
   "source": [
    "import phyem as ph"
   ]
  },
  {
   "cell_type": "code",
   "execution_count": 3,
   "id": "3b3d14a0-36cd-4faa-85ff-d7422340c474",
   "metadata": {
    "tags": []
   },
   "outputs": [
    {
     "name": "stdout",
     "output_type": "stream",
     "text": [
      "<function manifold at 0x000001CF56B16F20>\n"
     ]
    }
   ],
   "source": [
    "print(ph.manifold)"
   ]
  },
  {
   "cell_type": "code",
   "execution_count": null,
   "id": "9152c972-3aca-4298-a7dd-e3d0a92f2d89",
   "metadata": {},
   "outputs": [],
   "source": []
  },
  {
   "cell_type": "code",
   "execution_count": null,
   "id": "1bd925f3-1812-4aea-ae6e-b82cd7a1f3d5",
   "metadata": {},
   "outputs": [],
   "source": []
  }
 ],
 "metadata": {
  "kernelspec": {
   "display_name": "Python 3 (ipykernel)",
   "language": "python",
   "name": "python3"
  },
  "language_info": {
   "codemirror_mode": {
    "name": "ipython",
    "version": 3
   },
   "file_extension": ".py",
   "mimetype": "text/x-python",
   "name": "python",
   "nbconvert_exporter": "python",
   "pygments_lexer": "ipython3",
   "version": "3.11.3"
  }
 },
 "nbformat": 4,
 "nbformat_minor": 5
}
