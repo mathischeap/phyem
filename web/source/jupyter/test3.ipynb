{
 "cells": [
  {
   "cell_type": "markdown",
   "id": "f0a6ed57-bceb-46fa-b6a2-4d46351340a1",
   "metadata": {
    "tags": []
   },
   "source": [
    "# `msepy` implementation\n",
    "\n",
    "Again, we first locate the *phyem* package and import it."
   ]
  },
  {
   "cell_type": "code",
   "execution_count": 1,
   "id": "05e7856e-cde2-4b84-9cb0-3f50eee351d5",
   "metadata": {
    "execution": {
     "iopub.execute_input": "2023-05-07T14:28:02.914308Z",
     "iopub.status.busy": "2023-05-07T14:28:02.914308Z",
     "iopub.status.idle": "2023-05-07T14:28:03.452170Z",
     "shell.execute_reply": "2023-05-07T14:28:03.452170Z"
    },
    "tags": []
   },
   "outputs": [],
   "source": [
    "import sys\n",
    "path_to_phyem = '../../../../'   # the path to dir that containing the phyem package.\n",
    "sys.path.append(path_to_phyem)\n",
    "import phyem as ph  # import the phyem package\n",
    "ph.config._set_matplot_block(False)"
   ]
  },
  {
   "cell_type": "markdown",
   "id": "e1950b13-6b22-48ea-b3d3-9aa406976668",
   "metadata": {},
   "source": [
    "The package works for 1d, 2d and 3d spaces. We use `space_dim` to indicate the embedding space dimensions. And we initialize a manifold and a mesh to demonstrate the `msepy` implementation."
   ]
  },
  {
   "cell_type": "code",
   "execution_count": 2,
   "id": "63e7519b-bce1-4f2f-ba62-9f9f30e19bc6",
   "metadata": {
    "execution": {
     "iopub.execute_input": "2023-05-07T14:28:03.505177Z",
     "iopub.status.busy": "2023-05-07T14:28:03.505177Z",
     "iopub.status.idle": "2023-05-07T14:28:03.508296Z",
     "shell.execute_reply": "2023-05-07T14:28:03.508296Z"
    },
    "tags": []
   },
   "outputs": [],
   "source": [
    "space_dim = 3\n",
    "ph.config.set_embedding_space_dim(space_dim)  # set the embedding space dimensions.\n",
    "manifold = ph.manifold(space_dim)\n",
    "mesh = ph.mesh(manifold)"
   ]
  },
  {
   "cell_type": "markdown",
   "id": "81f10461-b896-4544-8228-4596705c9425",
   "metadata": {},
   "source": [
    "To call the `msepy` implementation, we do "
   ]
  },
  {
   "cell_type": "code",
   "execution_count": 3,
   "id": "5f4b8816-8af8-457b-ae18-1606dcc13556",
   "metadata": {
    "execution": {
     "iopub.execute_input": "2023-05-07T14:28:03.542816Z",
     "iopub.status.busy": "2023-05-07T14:28:03.542816Z",
     "iopub.status.idle": "2023-05-07T14:28:03.545733Z",
     "shell.execute_reply": "2023-05-07T14:28:03.545733Z"
    }
   },
   "outputs": [],
   "source": [
    "msepy, obj = ph.fem.apply('msepy', locals())"
   ]
  },
  {
   "cell_type": "markdown",
   "id": "988068d6-5125-459f-8451-e8c4cce0c58d",
   "metadata": {},
   "source": [
    "We now label the particular implementations of `manifold` and `mesh` as `mnf` and `msh`,"
   ]
  },
  {
   "cell_type": "code",
   "execution_count": 4,
   "id": "9937db63-1605-4a5a-8983-12ca4bb69edc",
   "metadata": {
    "execution": {
     "iopub.execute_input": "2023-05-07T14:28:03.574739Z",
     "iopub.status.busy": "2023-05-07T14:28:03.574739Z",
     "iopub.status.idle": "2023-05-07T14:28:03.577337Z",
     "shell.execute_reply": "2023-05-07T14:28:03.577337Z"
    },
    "tags": []
   },
   "outputs": [],
   "source": [
    "mnf = obj['manifold']\n",
    "msh = obj['mesh']"
   ]
  },
  {
   "cell_type": "markdown",
   "id": "c07d21d7-df95-4aa2-87c0-b5652fd4a68c",
   "metadata": {},
   "source": [
    "We can config the manifold to particularly be a domain by using `config` function of the `msepy`,"
   ]
  },
  {
   "cell_type": "code",
   "execution_count": 5,
   "id": "a94d1c23-d5a0-464e-bf5f-f9d324d41f88",
   "metadata": {
    "execution": {
     "iopub.execute_input": "2023-05-07T14:28:03.606342Z",
     "iopub.status.busy": "2023-05-07T14:28:03.606342Z",
     "iopub.status.idle": "2023-05-07T14:28:03.610938Z",
     "shell.execute_reply": "2023-05-07T14:28:03.610938Z"
    }
   },
   "outputs": [],
   "source": [
    "# msepy.config(mnf)('crazy', c=0.1, periodic=False, bounds=([0, 2], [0, 2], [0, 2]))\n",
    "msepy.config(mnf)('backward_step')"
   ]
  },
  {
   "cell_type": "markdown",
   "id": "37bb943e-0583-4d3b-ab7f-dd86479f5088",
   "metadata": {},
   "source": [
    "And we can visualize the manifold by calling its `visualize` method,"
   ]
  },
  {
   "cell_type": "code",
   "execution_count": 6,
   "id": "5dc20f97-50fe-4f1a-a3a8-7e733a9c5c84",
   "metadata": {
    "execution": {
     "iopub.execute_input": "2023-05-07T14:28:03.637214Z",
     "iopub.status.busy": "2023-05-07T14:28:03.637214Z",
     "iopub.status.idle": "2023-05-07T14:28:03.764195Z",
     "shell.execute_reply": "2023-05-07T14:28:03.764195Z"
    }
   },
   "outputs": [
    {
     "data": {
      "text/plain": [
       "<Figure size 1000x600 with 1 Axes>"
      ]
     },
     "execution_count": 6,
     "metadata": {},
     "output_type": "execute_result"
    }
   ],
   "source": [
    "mnf.visualize()"
   ]
  },
  {
   "cell_type": "markdown",
   "id": "2be3c1a9-a283-423d-868f-1c63192f172e",
   "metadata": {},
   "source": [
    "Similarly, we config the mesh by"
   ]
  },
  {
   "cell_type": "code",
   "execution_count": 7,
   "id": "116b51ca-f93f-4312-b5fb-9459f1ffea50",
   "metadata": {
    "execution": {
     "iopub.execute_input": "2023-05-07T14:28:04.401304Z",
     "iopub.status.busy": "2023-05-07T14:28:04.401304Z",
     "iopub.status.idle": "2023-05-07T14:28:04.415703Z",
     "shell.execute_reply": "2023-05-07T14:28:04.415703Z"
    }
   },
   "outputs": [],
   "source": [
    "msepy.config(msh)([3, 3, 3])"
   ]
  },
  {
   "cell_type": "markdown",
   "id": "b4ce55e8-b768-4db6-ba93-7e7e8937c0c1",
   "metadata": {},
   "source": [
    "and visualize it by"
   ]
  },
  {
   "cell_type": "code",
   "execution_count": 8,
   "id": "0b98ea99-23b6-4241-8986-63c9320ec83e",
   "metadata": {
    "execution": {
     "iopub.execute_input": "2023-05-07T14:28:04.446222Z",
     "iopub.status.busy": "2023-05-07T14:28:04.446222Z",
     "iopub.status.idle": "2023-05-07T14:28:04.663610Z",
     "shell.execute_reply": "2023-05-07T14:28:04.663610Z"
    },
    "tags": []
   },
   "outputs": [
    {
     "data": {
      "text/plain": [
       "<Figure size 1000x600 with 1 Axes>"
      ]
     },
     "execution_count": 8,
     "metadata": {},
     "output_type": "execute_result"
    }
   ],
   "source": [
    "msh.visualize()"
   ]
  },
  {
   "cell_type": "code",
   "execution_count": null,
   "id": "8c5a6a4e-ec0c-4038-9b20-87e55f910940",
   "metadata": {},
   "outputs": [],
   "source": []
  }
 ],
 "metadata": {
  "kernelspec": {
   "display_name": "Python 3 (ipykernel)",
   "language": "python",
   "name": "python3"
  },
  "language_info": {
   "codemirror_mode": {
    "name": "ipython",
    "version": 3
   },
   "file_extension": ".py",
   "mimetype": "text/x-python",
   "name": "python",
   "nbconvert_exporter": "python",
   "pygments_lexer": "ipython3",
   "version": "3.11.3"
  }
 },
 "nbformat": 4,
 "nbformat_minor": 5
}
