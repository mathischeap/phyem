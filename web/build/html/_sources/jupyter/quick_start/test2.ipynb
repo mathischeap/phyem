{
 "cells": [
  {
   "cell_type": "markdown",
   "id": "b40cde8e-a20e-4904-bfec-753a7d82a300",
   "metadata": {},
   "source": [
    "# Discretization\n",
    "\n",
    "Now we demonstrate how to discretize an equation object.\n",
    "\n",
    "Pre-coded sample objects are stored in `sample` attribute of `phyem` packages. Invoke these samples by"
   ]
  },
  {
   "cell_type": "code",
   "execution_count": 1,
   "id": "d603a38d-c76a-4cf6-b5fc-bbd27c54db4f",
   "metadata": {
    "execution": {
     "iopub.execute_input": "2023-05-13T19:19:51.845331Z",
     "iopub.status.busy": "2023-05-13T19:19:51.845331Z",
     "iopub.status.idle": "2023-05-13T19:19:53.153432Z",
     "shell.execute_reply": "2023-05-13T19:19:53.153432Z"
    },
    "tags": []
   },
   "outputs": [],
   "source": [
    "import sys\n",
    "path_to_phyem = '../../../../'   # the path to dir that containing the phyem package.\n",
    "sys.path.append(path_to_phyem)\n",
    "import phyem as ph  # import the phyem package\n",
    "ph.config._set_matplot_block(False)\n",
    "samples = ph.samples"
   ]
  },
  {
   "cell_type": "markdown",
   "id": "498e0ee3-b788-4265-81a9-ce957c466895",
   "metadata": {},
   "source": [
    "The partial differential equations of the canocical linear por-Hamiltonian are pre-coded. Call it through"
   ]
  },
  {
   "cell_type": "code",
   "execution_count": 2,
   "id": "a343b362-5677-42d7-8dc2-cdb3cca95e45",
   "metadata": {
    "execution": {
     "iopub.execute_input": "2023-05-13T19:19:53.267816Z",
     "iopub.status.busy": "2023-05-13T19:19:53.267816Z",
     "iopub.status.idle": "2023-05-13T19:19:53.282303Z",
     "shell.execute_reply": "2023-05-13T19:19:53.282303Z"
    },
    "tags": []
   },
   "outputs": [],
   "source": [
    "oph = samples.pde_canonical_pH(n=3, p=3, periodic=False)[0]  # where o on `oph` means outer"
   ]
  },
  {
   "cell_type": "markdown",
   "id": "702b2712-bd83-468e-9478-3e9c608d1a55",
   "metadata": {},
   "source": [
    "Check `oph`, *outer oriented port-Hamiltonian*, with"
   ]
  },
  {
   "cell_type": "code",
   "execution_count": 3,
   "id": "8fd0eb4d-6350-4268-a3a3-c905926b46a4",
   "metadata": {
    "execution": {
     "iopub.execute_input": "2023-05-13T19:19:53.315141Z",
     "iopub.status.busy": "2023-05-13T19:19:53.315141Z",
     "iopub.status.idle": "2023-05-13T19:19:54.214487Z",
     "shell.execute_reply": "2023-05-13T19:19:54.214487Z"
    },
    "tags": []
   },
   "outputs": [
    {
     "data": {
      "text/plain": [
       "<Figure size 800x600 with 1 Axes>"
      ]
     },
     "execution_count": 3,
     "metadata": {},
     "output_type": "execute_result"
    }
   ],
   "source": [
    "oph.pr()"
   ]
  },
  {
   "cell_type": "markdown",
   "id": "95eaceec-a95e-4da5-82c7-7e7b1a8770a5",
   "metadata": {},
   "source": [
    "We can take out the knowns and label them by"
   ]
  },
  {
   "cell_type": "code",
   "execution_count": 4,
   "id": "6bb4c1e9-e284-4de6-bf5a-746a707fb08f",
   "metadata": {
    "execution": {
     "iopub.execute_input": "2023-05-13T19:19:54.350224Z",
     "iopub.status.busy": "2023-05-13T19:19:54.348549Z",
     "iopub.status.idle": "2023-05-13T19:19:54.355802Z",
     "shell.execute_reply": "2023-05-13T19:19:54.355288Z"
    },
    "tags": []
   },
   "outputs": [],
   "source": [
    "a3, b2 = oph.unknowns"
   ]
  },
  {
   "cell_type": "markdown",
   "id": "4c0f26a4-49b6-4d3c-aca3-e355f35449c9",
   "metadata": {},
   "source": [
    "We now test `oph` with test functions from the spaces where `a3` and `b2` come from, and label the test functions by $v^3$ and $u^2$,"
   ]
  },
  {
   "cell_type": "code",
   "execution_count": 5,
   "id": "01e41ea7-fbd8-4e0a-80e0-771bd1498ded",
   "metadata": {
    "execution": {
     "iopub.execute_input": "2023-05-13T19:19:54.384931Z",
     "iopub.status.busy": "2023-05-13T19:19:54.383266Z",
     "iopub.status.idle": "2023-05-13T19:19:54.610973Z",
     "shell.execute_reply": "2023-05-13T19:19:54.609701Z"
    },
    "tags": []
   },
   "outputs": [
    {
     "data": {
      "text/plain": [
       "<Figure size 1200x600 with 1 Axes>"
      ]
     },
     "execution_count": 5,
     "metadata": {},
     "output_type": "execute_result"
    }
   ],
   "source": [
    "wf = oph.test_with(oph.unknowns, sym_repr=[r'v^3', r'u^2'])\n",
    "wf.pr()"
   ]
  },
  {
   "cell_type": "markdown",
   "id": "a627673d-fbaa-4b35-9f4b-7184f265d382",
   "metadata": {
    "tags": []
   },
   "source": [
    "Now, we apply integration by parts to the term indexed by `'1-1'`."
   ]
  },
  {
   "cell_type": "code",
   "execution_count": 6,
   "id": "fec1529c-8a7a-4b5a-9e4c-0c4580f06729",
   "metadata": {
    "execution": {
     "iopub.execute_input": "2023-05-13T19:19:54.781331Z",
     "iopub.status.busy": "2023-05-13T19:19:54.781331Z",
     "iopub.status.idle": "2023-05-13T19:19:54.995650Z",
     "shell.execute_reply": "2023-05-13T19:19:54.995650Z"
    },
    "tags": []
   },
   "outputs": [
    {
     "data": {
      "text/plain": [
       "<Figure size 1200x600 with 1 Axes>"
      ]
     },
     "execution_count": 6,
     "metadata": {},
     "output_type": "execute_result"
    }
   ],
   "source": [
    "wf = wf.derive.integration_by_parts('1-1')\n",
    "wf.pr()"
   ]
  },
  {
   "cell_type": "markdown",
   "id": "65b936bb-c33f-4a14-a0cc-c67ae5d1c00f",
   "metadata": {
    "tags": []
   },
   "source": [
    "We now apply a particular discretization to this weak formulation,"
   ]
  },
  {
   "cell_type": "code",
   "execution_count": 7,
   "id": "99d09aa1-ef0f-48ae-b104-bb128fd380bb",
   "metadata": {
    "execution": {
     "iopub.execute_input": "2023-05-13T19:19:55.187933Z",
     "iopub.status.busy": "2023-05-13T19:19:55.187933Z",
     "iopub.status.idle": "2023-05-13T19:19:58.585973Z",
     "shell.execute_reply": "2023-05-13T19:19:58.585973Z"
    },
    "tags": []
   },
   "outputs": [
    {
     "data": {
      "text/plain": [
       "<Figure size 1200x600 with 1 Axes>"
      ]
     },
     "execution_count": 7,
     "metadata": {},
     "output_type": "execute_result"
    }
   ],
   "source": [
    "td = wf.td\n",
    "td.set_time_sequence()  # initialize a time sequence\n",
    "td.define_abstract_time_instants('k-1', 'k-1/2', 'k')\n",
    "td.differentiate('0-0', 'k-1', 'k')\n",
    "td.average('0-1', b2, ['k-1', 'k'])\n",
    "\n",
    "td.differentiate('1-0', 'k-1', 'k')\n",
    "td.average('1-1', a3, ['k-1', 'k'])\n",
    "td.average('1-2', a3, ['k-1/2'])\n",
    "dt = td.time_sequence.make_time_interval('k-1', 'k')\n",
    "\n",
    "wf = td()\n",
    "wf.pr()\n",
    "\n",
    "wf.unknowns = [\n",
    "    a3 @ td.time_sequence['k'],\n",
    "    b2 @ td.time_sequence['k'],\n",
    "]\n",
    "\n",
    "wf = wf.derive.split(\n",
    "    '0-0', 'f0',\n",
    "    [a3 @ td.ts['k'], a3 @ td.ts['k-1']],\n",
    "    ['+', '-'],\n",
    "    factors=[1/dt, 1/dt],\n",
    ")\n",
    "wf.pr()\n",
    "\n",
    "wf = wf.derive.split(\n",
    "    '0-2', 'f0',\n",
    "    [ph.d(b2 @ td.ts['k-1']), ph.d(b2 @ td.ts['k'])],\n",
    "    ['+', '+'],\n",
    "    factors=[1/2, 1/2],\n",
    ")\n",
    "wf.pr()\n",
    "\n",
    "wf = wf.derive.split(\n",
    "    '1-0', 'f0',\n",
    "    [b2 @ td.ts['k'], b2 @ td.ts['k-1']],\n",
    "    ['+', '-'],\n",
    "    factors=[1/dt, 1/dt]\n",
    ")\n",
    "wf.pr()\n",
    "\n",
    "wf = wf.derive.split(\n",
    "    '1-2', 'f0',\n",
    "    [a3 @ td.ts['k-1'], a3 @ td.ts['k']],\n",
    "    ['+', '+'],\n",
    "    factors=[1/2, 1/2],\n",
    ")\n",
    "wf.pr()\n",
    "\n",
    "wf = wf.derive.rearrange(\n",
    "    {\n",
    "        0: '0, 3 = 2, 1',\n",
    "        1: '3, 0 = 2, 1, 4',\n",
    "    }\n",
    ")\n",
    "wf.pr()"
   ]
  },
  {
   "cell_type": "markdown",
   "id": "a0de472f-32b1-4c27-93cc-0abe5cbab7b9",
   "metadata": {},
   "source": [
    "We now can write the weak formulation with matrix proxies. Before doing that, we need to "
   ]
  },
  {
   "cell_type": "code",
   "execution_count": 8,
   "id": "5e30efae-221f-4969-b285-243686f4c1f9",
   "metadata": {
    "execution": {
     "iopub.execute_input": "2023-05-13T19:20:00.570416Z",
     "iopub.status.busy": "2023-05-13T19:20:00.570416Z",
     "iopub.status.idle": "2023-05-13T19:20:00.846989Z",
     "shell.execute_reply": "2023-05-13T19:20:00.845380Z"
    },
    "tags": []
   },
   "outputs": [
    {
     "data": {
      "text/plain": [
       "<Figure size 1200x800 with 1 Axes>"
      ]
     },
     "execution_count": 8,
     "metadata": {},
     "output_type": "execute_result"
    }
   ],
   "source": [
    "ph.space.finite(3)\n",
    "mp = wf.mp()\n",
    "mp.pr()"
   ]
  },
  {
   "cell_type": "markdown",
   "id": "2bf04ccc-e555-4eed-9eae-3dc55f1ac324",
   "metadata": {},
   "source": [
    "The matrix format of the weak formulation lead to a linear system,"
   ]
  },
  {
   "cell_type": "code",
   "execution_count": 9,
   "id": "7bffe47c-a9bd-4bcf-95e8-f8ccf14a0ada",
   "metadata": {
    "execution": {
     "iopub.execute_input": "2023-05-13T19:20:01.438187Z",
     "iopub.status.busy": "2023-05-13T19:20:01.438187Z",
     "iopub.status.idle": "2023-05-13T19:20:01.691512Z",
     "shell.execute_reply": "2023-05-13T19:20:01.689881Z"
    },
    "tags": []
   },
   "outputs": [
    {
     "data": {
      "text/plain": [
       "<Figure size 1200x800 with 1 Axes>"
      ]
     },
     "execution_count": 9,
     "metadata": {},
     "output_type": "execute_result"
    }
   ],
   "source": [
    "ls = mp.ls()\n",
    "ls.pr()"
   ]
  },
  {
   "cell_type": "markdown",
   "id": "ba265f8a-8b4f-4704-af51-2e9cc45a222c",
   "metadata": {},
   "source": [
    "Note that, till this moment, everything is still abstract. To do the numerical simulation, we need to bring them to a particular implementation, for example, the `msepy`, standing for *mimetic spectral elements python*, by calling `ph.fem.apply` function,"
   ]
  },
  {
   "cell_type": "code",
   "execution_count": 10,
   "id": "4c5b6a9d-7009-4ab9-8f75-21758a9df58a",
   "metadata": {
    "execution": {
     "iopub.execute_input": "2023-05-13T19:20:02.353333Z",
     "iopub.status.busy": "2023-05-13T19:20:02.353333Z",
     "iopub.status.idle": "2023-05-13T19:20:02.377098Z",
     "shell.execute_reply": "2023-05-13T19:20:02.377098Z"
    },
    "tags": []
   },
   "outputs": [
    {
     "name": "stdout",
     "output_type": "stream",
     "text": [
      "<module 'msepy.main' from 'C:\\\\Users\\\\Yi Zhang\\\\OneDrive\\\\Codes\\\\phyem\\\\web\\\\source\\\\jupyter\\\\../../../..\\\\phyem\\\\msepy\\\\main.py'>\n",
      "{'a3': <MsePy Form \\widehat{\\alpha}^3 at 0x000001F0065F3690>, 'b2': <MsePy Form \\widehat{\\beta}^2 at 0x000001F07EC6C710>, 'ls': <msepy.tools.linear_system.dynamic.MsePyDynamicLinearSystem object at 0x000001F07EC8C090>}\n"
     ]
    }
   ],
   "source": [
    "msepy, obj = ph.fem.apply('msepy', locals())\n",
    "print(msepy)\n",
    "print(obj)"
   ]
  },
  {
   "cell_type": "markdown",
   "id": "84126bad-7788-4f2b-8d49-2892c0bd37f0",
   "metadata": {},
   "source": [
    "`ph.fem.apply` takes two arguments, this first one indicates which particular implementation we want to use (in this case, we use `msepy`, the pure python mimetic spectral element implementation) and the second argument says what we want to take to this implementation. We use `locals()` which says everything in the local environment. We can customize it of course to move ahead with only a ecific set local variables."
   ]
  },
  {
   "cell_type": "code",
   "execution_count": null,
   "id": "bb6b399a-bdf9-41a4-8162-c592fd2e609e",
   "metadata": {},
   "outputs": [],
   "source": []
  }
 ],
 "metadata": {
  "kernelspec": {
   "display_name": "Python 3 (ipykernel)",
   "language": "python",
   "name": "python3"
  },
  "language_info": {
   "codemirror_mode": {
    "name": "ipython",
    "version": 3
   },
   "file_extension": ".py",
   "mimetype": "text/x-python",
   "name": "python",
   "nbconvert_exporter": "python",
   "pygments_lexer": "ipython3",
   "version": "3.11.2"
  }
 },
 "nbformat": 4,
 "nbformat_minor": 5
}
