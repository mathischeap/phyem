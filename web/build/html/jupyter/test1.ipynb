{
 "cells": [
  {
   "cell_type": "markdown",
   "id": "2fde910d-ebba-447d-9a79-0ef47c332a29",
   "metadata": {},
   "source": [
    "# Introduction"
   ]
  },
  {
   "cell_type": "code",
   "execution_count": 1,
   "id": "bd61d178-d4de-4a51-8e7a-8dc57ac73085",
   "metadata": {
    "tags": []
   },
   "outputs": [],
   "source": [
    "import sys"
   ]
  },
  {
   "cell_type": "code",
   "execution_count": 2,
   "id": "90fc3852-b8c6-4cbb-b17c-73a350531788",
   "metadata": {
    "tags": []
   },
   "outputs": [],
   "source": [
    "path_to_pHlib = '../../../'"
   ]
  },
  {
   "cell_type": "code",
   "execution_count": null,
   "id": "ef7e4c84-fc73-4e30-a440-5c24e821d601",
   "metadata": {},
   "outputs": [],
   "source": [
    "sys.path.append(path_to_pHlib)"
   ]
  },
  {
   "cell_type": "code",
   "execution_count": 3,
   "id": "6b92fced-68e8-42f3-8865-5f28c14aeba1",
   "metadata": {
    "tags": []
   },
   "outputs": [],
   "source": [
    "import __init__ as ph"
   ]
  },
  {
   "cell_type": "code",
   "execution_count": 7,
   "id": "3b3d14a0-36cd-4faa-85ff-d7422340c474",
   "metadata": {
    "tags": []
   },
   "outputs": [
    {
     "name": "stdout",
     "output_type": "stream",
     "text": [
      "<function manifold at 0x000001F49A8D8400>\n"
     ]
    }
   ],
   "source": [
    "print(ph.manifold)"
   ]
  },
  {
   "cell_type": "code",
   "execution_count": null,
   "id": "fa9ae07a-0ffd-4674-8dc1-f1efb18f6f56",
   "metadata": {},
   "outputs": [],
   "source": []
  },
  {
   "cell_type": "code",
   "execution_count": null,
   "id": "ca183583-832e-42c4-be7d-401b292464e0",
   "metadata": {},
   "outputs": [],
   "source": []
  },
  {
   "cell_type": "code",
   "execution_count": null,
   "id": "6041bb9a-2105-4aa6-9bbf-82e5246bf2cd",
   "metadata": {},
   "outputs": [],
   "source": []
  }
 ],
 "metadata": {
  "kernelspec": {
   "display_name": "Python 3 (ipykernel)",
   "language": "python",
   "name": "python3"
  },
  "language_info": {
   "codemirror_mode": {
    "name": "ipython",
    "version": 3
   },
   "file_extension": ".py",
   "mimetype": "text/x-python",
   "name": "python",
   "nbconvert_exporter": "python",
   "pygments_lexer": "ipython3",
   "version": "3.11.3"
  }
 },
 "nbformat": 4,
 "nbformat_minor": 5
}
