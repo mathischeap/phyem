{
 "cells": [
  {
   "cell_type": "markdown",
   "id": "2fde910d-ebba-447d-9a79-0ef47c332a29",
   "metadata": {},
   "source": [
    "# Quick-start: Set up your first equation\n",
    "This is a jupyter notebook serving as a quick/first interactive tutorial for the usage of *phyem*.\n",
    "\n",
    "To let Python know where to find the *phyem* package, we need to add the dir that contains the package to the searching path of Python unless it is already in a system path."
   ]
  },
  {
   "cell_type": "code",
   "execution_count": 1,
   "id": "bd61d178-d4de-4a51-8e7a-8dc57ac73085",
   "metadata": {
    "execution": {
     "iopub.execute_input": "2023-05-02T21:23:59.491370Z",
     "iopub.status.busy": "2023-05-02T21:23:59.491370Z",
     "iopub.status.idle": "2023-05-02T21:23:59.957529Z",
     "shell.execute_reply": "2023-05-02T21:23:59.957529Z"
    },
    "tags": []
   },
   "outputs": [],
   "source": [
    "import sys\n",
    "path_to_phyem = '../../../../'   # the path to dir that containing the phyem package.\n",
    "sys.path.append(path_to_phyem)\n",
    "import phyem as ph  # import the phyem package\n",
    "ph.config._set_matplot_block(False)"
   ]
  },
  {
   "cell_type": "markdown",
   "id": "c053457d-21e8-41fc-8ef0-cb5d0a2d6347",
   "metadata": {},
   "source": [
    "We now set the dimensions of the embedding space to be 3."
   ]
  },
  {
   "cell_type": "code",
   "execution_count": 2,
   "id": "1bd925f3-1812-4aea-ae6e-b82cd7a1f3d5",
   "metadata": {
    "execution": {
     "iopub.execute_input": "2023-05-02T21:24:00.009878Z",
     "iopub.status.busy": "2023-05-02T21:24:00.009878Z",
     "iopub.status.idle": "2023-05-02T21:24:00.012595Z",
     "shell.execute_reply": "2023-05-02T21:24:00.012595Z"
    }
   },
   "outputs": [],
   "source": [
    "ph.config.set_embedding_space_dim(3)"
   ]
  },
  {
   "cell_type": "markdown",
   "id": "5a27c347-d4d9-411f-aadb-a445986b32a6",
   "metadata": {},
   "source": [
    "Initialize an abstract manifold by"
   ]
  },
  {
   "cell_type": "code",
   "execution_count": 3,
   "id": "fbb7dc1a-ed9a-423f-ac88-3a8eae3cb8a7",
   "metadata": {
    "execution": {
     "iopub.execute_input": "2023-05-02T21:24:00.051219Z",
     "iopub.status.busy": "2023-05-02T21:24:00.050219Z",
     "iopub.status.idle": "2023-05-02T21:24:00.053574Z",
     "shell.execute_reply": "2023-05-02T21:24:00.053574Z"
    },
    "tags": []
   },
   "outputs": [],
   "source": [
    "manifold = ph.manifold(3)"
   ]
  },
  {
   "cell_type": "markdown",
   "id": "d66a2cee-9e7c-45bb-b63f-e67b6b535c65",
   "metadata": {},
   "source": [
    "Then an abstract mesh is built upon manifold `manifold`."
   ]
  },
  {
   "cell_type": "code",
   "execution_count": 4,
   "id": "99aa9c8c-e6d6-44e0-a4b9-707cbca7ffcb",
   "metadata": {
    "execution": {
     "iopub.execute_input": "2023-05-02T21:24:00.082117Z",
     "iopub.status.busy": "2023-05-02T21:24:00.082117Z",
     "iopub.status.idle": "2023-05-02T21:24:00.085185Z",
     "shell.execute_reply": "2023-05-02T21:24:00.085185Z"
    },
    "tags": []
   },
   "outputs": [],
   "source": [
    "mesh = ph.mesh(manifold)"
   ]
  },
  {
   "cell_type": "markdown",
   "id": "678a77fa-d5a1-4be5-8d1d-d1586558e482",
   "metadata": {},
   "source": [
    "Using function `list_meshes` of *phyem* can list all existing meshes in the current console."
   ]
  },
  {
   "cell_type": "code",
   "execution_count": 5,
   "id": "796f32ea-31bf-410b-9bd5-f205933aec2a",
   "metadata": {
    "execution": {
     "iopub.execute_input": "2023-05-02T21:24:00.114310Z",
     "iopub.status.busy": "2023-05-02T21:24:00.113309Z",
     "iopub.status.idle": "2023-05-02T21:24:00.118065Z",
     "shell.execute_reply": "2023-05-02T21:24:00.118065Z"
    },
    "tags": []
   },
   "outputs": [
    {
     "name": "stdout",
     "output_type": "stream",
     "text": [
      "\n",
      " Existing meshes:\n",
      "---------------- symbolic - <manifold> -------------------------\n",
      "             \\mathfrak{M} | <Manifold \\mathcal{M} at 0x000002B6FF93E8D0>\n"
     ]
    }
   ],
   "source": [
    "ph.list_meshes()"
   ]
  },
  {
   "cell_type": "markdown",
   "id": "d7b873d3-7d3c-4045-ac60-b08682e0ac60",
   "metadata": {},
   "source": [
    "where we can see the symbolic representation of the mesh and the manifold on which it is built. If we render the symbolic representation of the mesh with an equation environment, we see $\\mathfrak{M}$.\n",
    "\n",
    "We then can set spaces upon this mesh. For example, we set up spaces $\\Lambda^{(0)}(\\mathcal{M})$, $\\Lambda^{(1)}(\\mathcal{M})$, $\\Lambda^{(2)}(\\mathcal{M})$, $\\Lambda^{(3)}(\\mathcal{M})$, i.e., the Hilbert spaces of scalar valued 0- to 3-forms, by"
   ]
  },
  {
   "cell_type": "code",
   "execution_count": 6,
   "id": "ed3d5867-15a5-404d-891a-67645d4a48d1",
   "metadata": {
    "execution": {
     "iopub.execute_input": "2023-05-02T21:24:00.145104Z",
     "iopub.status.busy": "2023-05-02T21:24:00.144104Z",
     "iopub.status.idle": "2023-05-02T21:24:00.149152Z",
     "shell.execute_reply": "2023-05-02T21:24:00.149152Z"
    },
    "tags": []
   },
   "outputs": [
    {
     "name": "stdout",
     "output_type": "stream",
     "text": [
      "\n",
      " Implemented spaces:\n",
      "   abbreviation - description\n",
      "         Lambda | scalar valued k-form space\n",
      "\n",
      " Existing spaces:\n",
      "        On mesh \\mathfrak{M}\n",
      "              0: \\widetilde{\\Lambda}^{(0)}(\\mathcal{M})\n",
      "              1: \\widetilde{\\Lambda}^{(1)}(\\mathcal{M})\n",
      "              2: \\widetilde{\\Lambda}^{(2)}(\\mathcal{M})\n",
      "              3: \\widetilde{\\Lambda}^{(3)}(\\mathcal{M})\n"
     ]
    }
   ],
   "source": [
    "ph.space.set_mesh(mesh)\n",
    "O0 = ph.space.new('Lambda', 0)  # Lambda is the indicator for (standard) scalar valued form spaces.\n",
    "O1 = ph.space.new('Lambda', 1)\n",
    "O2 = ph.space.new('Lambda', 2)\n",
    "O3 = ph.space.new('Lambda', 3)\n",
    "ph.list_spaces()  # we can also list all existing spaces"
   ]
  },
  {
   "cell_type": "markdown",
   "id": "7ff92ae4-b590-4723-b40d-e345ec3c3533",
   "metadata": {},
   "source": [
    "where we see first a list of all implemented spaces and then the existing spaces till this moment. \n",
    "\n",
    "A form is just a instance of such space. So we make forms from spaces by calling method `make_form` which takes two arguments representing the symbolic representation and the linguistic representation of the form. These forms are the root forms."
   ]
  },
  {
   "cell_type": "code",
   "execution_count": 7,
   "id": "fb2b009d-d29d-47ca-abb3-05988c3687cc",
   "metadata": {
    "execution": {
     "iopub.execute_input": "2023-05-02T21:24:00.175186Z",
     "iopub.status.busy": "2023-05-02T21:24:00.175186Z",
     "iopub.status.idle": "2023-05-02T21:24:00.822123Z",
     "shell.execute_reply": "2023-05-02T21:24:00.822123Z"
    },
    "tags": []
   },
   "outputs": [
    {
     "data": {
      "text/plain": [
       "<Figure size 1600x500 with 1 Axes>"
      ]
     },
     "execution_count": 7,
     "metadata": {},
     "output_type": "execute_result"
    }
   ],
   "source": [
    "w = O1.make_form(r'\\omega^1', \"vorticity1\") \n",
    "u = O2.make_form(r'u^2', r\"velocity2\")\n",
    "f = O2.make_form(r'f^2', r\"body-force\")\n",
    "P = O3.make_form(r'P^3', r\"total-pressure3\")\n",
    "ph.list_forms(locals())  # this will generate a table in a separete figure showing."
   ]
  },
  {
   "cell_type": "markdown",
   "id": "e2ebbc23-f397-4aec-8dfb-6a84fb7ac2c6",
   "metadata": {},
   "source": [
    "where we have used function `list_forms` to visualize/list the exsiting forms. Note that, when forms are not many, a separete plot will be generated where the forms are visualized in a table. As this process invokes *matplotlib* and *latex*, make sure they are installed. When the forms are many, instead of plotting, a text list will appear in the default console. \n",
    "\n",
    "> The argument `locals()` restricts `list_forms` function to only the local variables. Since intermediate forms may be generated during some processes, if we do not restrict the range of `list_forms`, they may also be shown. But at this moment, `ph.list_forms(locals())` and `ph.list_forms()` make no differences.  \n",
    "\n",
    "> When it is the first time to invoke *matplotlib* and *latex*, it may be very slow since there are large amount of interplays among the packages. Be patient. Things become much better later on.\n",
    "\n",
    "We can also visualize a particular form by calling its `pr` method. For example,"
   ]
  },
  {
   "cell_type": "code",
   "execution_count": 8,
   "id": "d7bf91ab-8409-4f15-bcfe-636780c75b2e",
   "metadata": {
    "execution": {
     "iopub.execute_input": "2023-05-02T21:24:00.940455Z",
     "iopub.status.busy": "2023-05-02T21:24:00.939455Z",
     "iopub.status.idle": "2023-05-02T21:24:01.015328Z",
     "shell.execute_reply": "2023-05-02T21:24:01.015328Z"
    },
    "tags": []
   },
   "outputs": [
    {
     "data": {
      "text/plain": [
       "<Figure size 1200x600 with 1 Axes>"
      ]
     },
     "execution_count": 8,
     "metadata": {},
     "output_type": "execute_result"
    }
   ],
   "source": [
    "u.pr()"
   ]
  },
  {
   "cell_type": "markdown",
   "id": "c836b6c4-65ba-4563-834a-57ebccb60c4d",
   "metadata": {},
   "source": [
    "Furthermore, we can use these root forms to build other forms through operators like $\\wedge$, $\\star$, $\\mathrm{d}^\\ast$, $\\mathrm{d}$, $\\partial_t$ and so on."
   ]
  },
  {
   "cell_type": "code",
   "execution_count": 9,
   "id": "bada5408-f784-4c4c-9595-a6d662f8fbd3",
   "metadata": {
    "execution": {
     "iopub.execute_input": "2023-05-02T21:24:02.022668Z",
     "iopub.status.busy": "2023-05-02T21:24:02.022668Z",
     "iopub.status.idle": "2023-05-02T21:24:02.447480Z",
     "shell.execute_reply": "2023-05-02T21:24:02.447480Z"
    },
    "tags": []
   },
   "outputs": [
    {
     "data": {
      "text/plain": [
       "<Figure size 1600x1000 with 1 Axes>"
      ]
     },
     "execution_count": 9,
     "metadata": {},
     "output_type": "execute_result"
    }
   ],
   "source": [
    "wXu = w.wedge(ph.Hodge(u))\n",
    "dsP = ph.codifferential(P)\n",
    "dsu = ph.codifferential(u)\n",
    "du = ph.d(u)\n",
    "du_dt = ph.time_derivative(u)\n",
    "ph.list_forms(locals())"
   ]
  },
  {
   "cell_type": "markdown",
   "id": "300a67c1-9d17-4145-b957-249c022a03ab",
   "metadata": {},
   "source": [
    "Now, if you try `ph.list_forms()` which does not restrict the range of `list_forms` function to the local environment, the outputs are different."
   ]
  },
  {
   "cell_type": "code",
   "execution_count": 10,
   "id": "0f734363-eb65-46ba-80d8-5c5303c2b1f2",
   "metadata": {
    "execution": {
     "iopub.execute_input": "2023-05-02T21:24:02.690598Z",
     "iopub.status.busy": "2023-05-02T21:24:02.689598Z",
     "iopub.status.idle": "2023-05-02T21:24:02.693004Z",
     "shell.execute_reply": "2023-05-02T21:24:02.693004Z"
    },
    "tags": []
   },
   "outputs": [
    {
     "name": "stdout",
     "output_type": "stream",
     "text": [
      "---> 2984995829648 | \\omega^1 = \\textsf{vorticity1}\n",
      "---> 2984976884240 | u^2 = \\textsf{velocity2}\n",
      "---> 2984995829840 | f^2 = \\textsf{body-force}\n",
      "---> 2984995830224 | P^3 = \\textsf{total-pressure3}\n",
      "---> 2983697562640 | {\\star}u^2 = $\\star$ \\textsf{velocity2}\n",
      "---> 2983697455056 | \\omega^1{\\wedge}\\left({\\star}u^2\\right) = \\textsf{vorticity1} $\\wedge$ \\{$\\star$ \\textsf{velocity2}\\}\n",
      "---> 2984998045072 | \\mathrm{d}^{\\ast}P^3 = $\\mathrm{d}^{\\ast}$ \\textsf{total-pressure3}\n",
      "---> 2984997506000 | \\mathrm{d}^{\\ast}u^2 = $\\mathrm{d}^{\\ast}$ \\textsf{velocity2}\n",
      "---> 2983697618448 | \\mathrm{d}u^2 = $\\mathrm{d}$ \\textsf{velocity2}\n",
      "---> 2983697619920 | \\partial_{t}u^2 = $\\partial_{t}$ \\textsf{velocity2}\n"
     ]
    }
   ],
   "source": [
    "ph.list_forms()"
   ]
  },
  {
   "cell_type": "markdown",
   "id": "694f70bf-3ed7-47a3-a8da-affd4a2a8d2a",
   "metadata": {},
   "source": [
    "Basically, we see the `id` and then *symbolic representation* = *linguistic representation* of all forms.\n",
    "\n",
    "With forms we can construct equations (usually **partial differential equations, PDEs**) through function `ph.pde`."
   ]
  },
  {
   "cell_type": "code",
   "execution_count": 11,
   "id": "17ec928d-433f-44a6-b3db-1807d4d3879b",
   "metadata": {
    "execution": {
     "iopub.execute_input": "2023-05-02T21:24:02.723565Z",
     "iopub.status.busy": "2023-05-02T21:24:02.722563Z",
     "iopub.status.idle": "2023-05-02T21:24:02.726560Z",
     "shell.execute_reply": "2023-05-02T21:24:02.726560Z"
    },
    "tags": []
   },
   "outputs": [],
   "source": [
    "exp1 = [\n",
    "    'dudt + wXu - dsP = f',\n",
    "    'w = dsu',\n",
    "    'du = 0',\n",
    "]\n",
    "itp = {\n",
    "    'dudt': du_dt,\n",
    "    'wXu': wXu,\n",
    "    'dsP': dsP,\n",
    "    'f': f,\n",
    "    'w': w,\n",
    "    'dsu': dsu,\n",
    "    'du': du,\n",
    "}\n",
    "pde1 = ph.pde(exp1, itp)\n",
    "pde1.unknowns = [u, w, P]"
   ]
  },
  {
   "cell_type": "markdown",
   "id": "9b9cd9ee-4a37-47e9-ae97-48d869e1a70c",
   "metadata": {},
   "source": [
    "where we send an expression (`exp1`) and an interpreter (`itp`) to `ph.pde` to initialize an equation object named `pde1`. You can see that in `exp1` we use string to represent the variables, terms and operators. The interpreter, `itp`, inteprets the string representations and thus `ph.pde` knows to use correct ingredients.\n",
    "\n",
    "You can avoid defining the interpreter manually by use the built-in function `locals`. For example,"
   ]
  },
  {
   "cell_type": "code",
   "execution_count": 12,
   "id": "82fb9024-c823-47a4-8675-ce70a3aea2af",
   "metadata": {
    "execution": {
     "iopub.execute_input": "2023-05-02T21:24:02.748325Z",
     "iopub.status.busy": "2023-05-02T21:24:02.748325Z",
     "iopub.status.idle": "2023-05-02T21:24:02.751129Z",
     "shell.execute_reply": "2023-05-02T21:24:02.751129Z"
    },
    "tags": []
   },
   "outputs": [],
   "source": [
    "exp2 = [\n",
    "    'du_dt + wXu - dsP = f',\n",
    "    'w = dsu',\n",
    "    'du = 0',\n",
    "]\n",
    "pde2 = ph.pde(exp2, locals())\n",
    "pde2.unknowns = [u, w, P]"
   ]
  },
  {
   "cell_type": "markdown",
   "id": "245b79e0-0f7c-468b-9430-c0d63dd4ef14",
   "metadata": {},
   "source": [
    "In this way, you lose the freedom of naming the terms in the expression because `locals()` gives a dictionary whose keys are exactly the vraible names in the local environment. See `'dudt'` in `exp1` and `du_dt` in `exp2`.\n",
    "\n",
    "After constructing our equations, we may want to have a close look at it to check if any mistakes we made. We can call method `pr`, standing for *print representation*, to do that. For example,"
   ]
  },
  {
   "cell_type": "code",
   "execution_count": 13,
   "id": "f042da22-edfe-4178-9fd2-c10c443ccca7",
   "metadata": {
    "execution": {
     "iopub.execute_input": "2023-05-02T21:24:02.772323Z",
     "iopub.status.busy": "2023-05-02T21:24:02.772323Z",
     "iopub.status.idle": "2023-05-02T21:24:02.846941Z",
     "shell.execute_reply": "2023-05-02T21:24:02.846941Z"
    },
    "tags": []
   },
   "outputs": [
    {
     "data": {
      "text/plain": [
       "<Figure size 800x600 with 1 Axes>"
      ]
     },
     "execution_count": 13,
     "metadata": {},
     "output_type": "execute_result"
    }
   ],
   "source": [
    "pde2.pr(indexing=False)"
   ]
  },
  {
   "cell_type": "code",
   "execution_count": null,
   "id": "1a898ad8-7590-4fe7-b08c-eb31e7a2700b",
   "metadata": {},
   "outputs": [],
   "source": []
  }
 ],
 "metadata": {
  "kernelspec": {
   "display_name": "Python 3 (ipykernel)",
   "language": "python",
   "name": "python3"
  },
  "language_info": {
   "codemirror_mode": {
    "name": "ipython",
    "version": 3
   },
   "file_extension": ".py",
   "mimetype": "text/x-python",
   "name": "python",
   "nbconvert_exporter": "python",
   "pygments_lexer": "ipython3",
   "version": "3.11.3"
  }
 },
 "nbformat": 4,
 "nbformat_minor": 5
}
